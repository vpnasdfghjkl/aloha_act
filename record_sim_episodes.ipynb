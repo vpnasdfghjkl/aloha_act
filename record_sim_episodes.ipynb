{
 "cells": [
  {
   "cell_type": "markdown",
   "metadata": {
    "slideshow": {
     "slide_type": "slide"
    }
   },
   "source": [
    "## 数据集(仿真，801)\n",
    "### 仿真数据集\n",
    "```python\n",
    "\"\"\"\n",
    "For each timestep:\n",
    "observations\n",
    "    - images\n",
    "        - each_cam_name     (480, 640, 3) 'uint8'\n",
    "    - qpos                  (14,)         'float64'\n",
    "    - qvel                  (14,)         'float64\n",
    "action                      (14,)         'float64'\n",
    "\"\"\"\n",
    "\n",
    "# data_dict\n",
    "data_dict = {\n",
    "    '/observations/qpos': [],\n",
    "    '/observations/qvel': [],\n",
    "    '/action': [],\n",
    "}\n",
    "\n",
    "for cam_name in camera_names:\n",
    "    data_dict[f'/observations/images/{cam_name}'] = []\n",
    "    \n",
    "rec_cam;\n",
    "run_point;\n",
    "rec_pid(rec_runPoint);\n",
    "```"
   ]
  },
  {
   "cell_type": "markdown",
   "metadata": {
    "slideshow": {
     "slide_type": "slide"
    }
   },
   "source": [
    "![Alt text](image.png)"
   ]
  },
  {
   "cell_type": "markdown",
   "metadata": {
    "slideshow": {
     "slide_type": "slide"
    }
   },
   "source": [
    "![Alt text](image-2.png)"
   ]
  },
  {
   "cell_type": "markdown",
   "metadata": {
    "slideshow": {
     "slide_type": "slide"
    }
   },
   "source": [
    "\n",
    "### 仿真代码  [record_sim_episodes.py](record_sim_episodes.py)\n",
    "ATTENTION_HERE  \n",
    "#dataset collect  \n",
    "!python3 record_sim_episodes.py --task_name sim_transfer_cube_scripted --dataset_dir data2 --num_episodes 10 --onscreen_render \n",
    "\n",
    "1. ee_sim->joint_sim->dataset ts by ts->hdf5\n",
    "2. run_code:images,qpos,qvel,action  \n",
    "![Alt text](image-4.png)"
   ]
  },
  {
   "cell_type": "markdown",
   "metadata": {
    "slideshow": {
     "slide_type": "slide"
    }
   },
   "source": [
    "\n",
    "### 训练[act_train](./imitate_episodes.py)\n",
    "(这里给的是单任务模型，LLM可以选择具体使用哪个模型或者组合任务)\n",
    "ATTENTION_HERE\n",
    "1. K=100:'num_queries': args['chunk_size']\n",
    "2. MODEL:[detr/models/detr_vae.py](./detr/models/detr_vae.py)\n",
    "3. INPUT_OUTPUT:\n",
    "    ```py\n",
    "    # Embedding\n",
    "        self.action_head = nn.Linear(hidden_dim, state_dim)\n",
    "        self.input_proj_robot_state = nn.Linear(14, hidden_dim)\n",
    "        self.encoder_action_proj = nn.Linear(14, hidden_dim) # project action to embedding\n",
    "        self.encoder_joint_proj = nn.Linear(14, hidden_dim)  # project qpos to embedding\n",
    "    ```\n"
   ]
  },
  {
   "cell_type": "markdown",
   "metadata": {
    "slideshow": {
     "slide_type": "slide"
    }
   },
   "source": [
    "\n",
    "### 训练[act_train](./imitate_episodes.py)\n",
    "4. sim_insertion_scripted --chunk_size 100 --hidden_dim 512 --batch_size 8 --dim_feedforward 3200 --num_epochs 500  --lr 1e-5 --seed 0->\"time<1h\"  \n",
    "`Best ckpt, val loss 0.129679 @ epoch459`\n",
    "![Alt text](train_val_loss_seed_0.png)\n",
    "\n",
    "##### 输入元素(depth,target检测分割),单机械臂给7-13维度置0"
   ]
  },
  {
   "cell_type": "markdown",
   "metadata": {},
   "source": [
    "end effector\n",
    "tool frame\n",
    "\n",
    "Joint space\n",
    "base frame\n",
    "\n",
    "Cartesian space"
   ]
  },
  {
   "cell_type": "markdown",
   "metadata": {},
   "source": [
    "![Alt text](image-1.png)"
   ]
  },
  {
   "cell_type": "code",
   "execution_count": null,
   "metadata": {
    "slideshow": {
     "slide_type": "slide"
    }
   },
   "outputs": [],
   "source": [
    "# dataset\n",
    "!python3 record_sim_episodes.py --task_name sim_transfer_cube_scripted --dataset_dir data2 --num_episodes 10 --onscreen_render \n",
    "# train\n",
    "# !python3 imitate_episodes.py --task_name sim_transfer_cube_scripted --ckpt_dir ckpt_dir --policy_class ACT --kl_weight 10 --chunk_size 100 --hidden_dim 512 --batch_size 8 --dim_feedforward 3200 --num_epochs 2000  --lr 1e-5 --seed 0\n",
    "# test_model\n",
    "# !python3 imitate_episodes.py --task_name sim_transfer_cube_scripted --ckpt_dir ckpt_dir --policy_class ACT --kl_weight 10 --chunk_size 100 --hidden_dim 512 --batch_size 8 --dim_feedforward 3200 --num_epochs 2000  --lr 1e-5 --seed 0 --eval --temporal_agg --onscreen_render"
   ]
  },
  {
   "cell_type": "markdown",
   "metadata": {},
   "source": []
  },
  {
   "cell_type": "markdown",
   "metadata": {
    "slideshow": {
     "slide_type": "slide"
    }
   },
   "source": [
    "### script\n",
    "![a](./visual/episode_0_qpos.png)"
   ]
  },
  {
   "cell_type": "markdown",
   "metadata": {
    "slideshow": {
     "slide_type": "slide"
    }
   },
   "source": [
    "### human\n",
    "![Alt text](episode_0_qpos.png)"
   ]
  },
  {
   "cell_type": "markdown",
   "metadata": {},
   "source": [
    "### mobile skills\n",
    "1. aloha mobile cabinet开橱柜\n",
    "2. aloha mobile chair truncated移动椅子\n",
    "3. aloha mobile elevator truncated按电梯\n",
    "4. aloha mobile shrimp truncated炒虾\n",
    "5. aloha mobile wash pan洗盘\n",
    "6. aloha mobile wipe wine擦酒瓶\n",
    "\n",
    "### cotrain skills\n",
    "1. 插入以太网（Insert Ethernet）\n",
    "2. 堆叠杯子（Stack Cups）\n",
    "3. 拆卸笔（Disassemble Pen）\n",
    "4. 使用保鲜膜（Use Cling Film）\n",
    "5. 翻页（Turn Pages）\n",
    "6. 插入PCIe（Insert PCIe）\n",
    "7. 撕开茶包包装（Tear Tea Package）\n",
    "8. 打开容器（Open Container）\n",
    "9. 打开/关闭Ziploc袋（Open/Close Ziploc）\n",
    "10. 插入RAM（Insert RAM）\n",
    "11. 使用簸箕（Use Dustpan）\n",
    "12. 打开牙膏（Open Toothpaste）\n",
    "13. 分离杯子（Separate Cups）\n",
    "14. 拾取信用卡（Pick Credit Card）\n",
    "15. 解开电缆束带（Unwrap Cable Tie）\n",
    "16. 使用拉链束带（Zip-tie Cables）\n",
    "17. 拉上连帽衫拉链（Zip-up Hoodie）\n",
    "18. NIST板 #2\n",
    "19. 安装钻头（Install Drill Bit）\n",
    "20. 拆开糖果包装（Unwrap Candy）\n",
    "21. 包装物品（Bagging items）\n",
    "22. 玩乒乓球抛接术（Juggle Ping Pong）\n",
    "23. 清洁瓶子（Clean Bottle）\n",
    "24. 打开燕麦粥（Open Oatmeal）\n",
    "25. Ziploc滑动（Ziploc Slide）\n",
    "26. 打开杯子（Open Cup）\n",
    "27. 穿过尼龙搭扣（Thread Velcro）\n",
    "28. 准备胶带（Prep Tape）\n",
    "29. 安装电池（Slot Battery）\n",
    "\n",
    "### origin paper skills\n",
    "1. 打开杯子（cups open）\n",
    "2. 滑动 Ziploc（50 压缩）（slide Ziploc 50）\n",
    "3. 制作咖啡（coffee making）\n",
    "4. 制作新咖啡（new coffee making）\n",
    "5. 拾起叉子（fork pick up）\n",
    "6. 进行乒乓球测试（pingpong testing）\n",
    "7. 使用专业铅笔（use pro pencil）\n",
    "8. 使用螺丝刀（use screw driver）\n",
    "9. 使用毛巾（use towel）\n",
    "10. 使用 Vinh 杯（use Vinh cup）\n",
    "11. 使用 Vinh 杯（左）（use Vinh cup left）\n",
    "12. 安装电池（install battery）\n",
    "13. 吃糖果（eat candy）\n",
    "14. 使用胶带（use tape）\n",
    "15. 使用尼龙搭扣（use Velcro）\n"
   ]
  }
 ],
 "metadata": {
  "kernelspec": {
   "display_name": "Python 3 (ipykernel)",
   "language": "python",
   "name": "python3"
  },
  "language_info": {
   "codemirror_mode": {
    "name": "ipython",
    "version": 3
   },
   "file_extension": ".py",
   "mimetype": "text/x-python",
   "name": "python",
   "nbconvert_exporter": "python",
   "pygments_lexer": "ipython3",
   "version": "3.8.10"
  }
 },
 "nbformat": 4,
 "nbformat_minor": 4
}
