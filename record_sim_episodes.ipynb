{
 "cells": [
  {
   "cell_type": "markdown",
   "metadata": {},
   "source": [
    "# headline:\n",
    "## 数据集(仿真，801)\n",
    "### 仿真数据集\n",
    "```python\n",
    "\"\"\"\n",
    "For each timestep:\n",
    "observations\n",
    "    - images\n",
    "        - each_cam_name     (480, 640, 3) 'uint8'\n",
    "    - qpos                  (14,)         'float64'\n",
    "    - qvel                  (14,)         'float64\n",
    "action                      (14,)         'float64'\n",
    "\"\"\"\n",
    "data_dict = {\n",
    "    '/observations/qpos': [],\n",
    "    '/observations/qvel': [],\n",
    "    '/action': [],\n",
    "}\n",
    "for cam_name in camera_names:\n",
    "    data_dict[f'/observations/images/{cam_name}'] = []\n",
    "```\n",
    "### 仿真代码\n",
    "1. ee_sim->joint_sim->dataset ts by ts->hdf5\n",
    "2. run_code:images,qpos,qvel,action\n",
    "\n",
    "## 训练\n",
    "(这里给的是单任务模型，可以通过大模型来选择具体使用哪个模型或者组合多个模型任务)\n",
    "\n",
    "## 输入元素(depth,target检测分割),单机械臂给7-13维度置0"
   ]
  },
  {
   "cell_type": "code",
   "execution_count": null,
   "metadata": {},
   "outputs": [],
   "source": [
    "# dataset\n",
    "!python3 record_sim_episodes.py --task_name sim_transfer_cube_scripted --dataset_dir data2 --num_episodes 10 --onscreen_render >> a.txt\n",
    "# train\n",
    "!python3 imitate_episodes.py --task_name sim_transfer_cube_scripted --ckpt_dir ckpt_dir --policy_class ACT --kl_weight 10 --chunk_size 100 --hidden_dim 512 --batch_size 8 --dim_feedforward 3200 --num_epochs 2000  --lr 1e-5 --seed 0\n",
    "# test_model\n",
    "!python3 imitate_episodes.py --task_name sim_transfer_cube_scripted --ckpt_dir ckpt_dir --policy_class ACT --kl_weight 10 --chunk_size 100 --hidden_dim 512 --batch_size 8 --dim_feedforward 3200 --num_epochs 2000  --lr 1e-5 --seed 0 --eval --temporal_agg --onscreen_render"
   ]
  },
  {
   "cell_type": "markdown",
   "metadata": {},
   "source": []
  },
  {
   "cell_type": "markdown",
   "metadata": {},
   "source": [
    "\n",
    "![a](/home/smj/hx/aloha_act/visual/episode_0_qpos.png)"
   ]
  }
 ],
 "metadata": {
  "kernelspec": {
   "display_name": "ALOPH",
   "language": "python",
   "name": "python3"
  },
  "language_info": {
   "codemirror_mode": {
    "name": "ipython",
    "version": 3
   },
   "file_extension": ".py",
   "mimetype": "text/x-python",
   "name": "python",
   "nbconvert_exporter": "python",
   "pygments_lexer": "ipython3",
   "version": "3.8.10"
  }
 },
 "nbformat": 4,
 "nbformat_minor": 2
}
